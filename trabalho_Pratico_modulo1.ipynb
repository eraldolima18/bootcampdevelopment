{
  "nbformat": 4,
  "nbformat_minor": 0,
  "metadata": {
    "colab": {
      "name": "Cópia de Untitled2.ipynb",
      "provenance": [],
      "authorship_tag": "ABX9TyNaWiCVze8IBQ+EBHC1ArtL",
      "include_colab_link": true
    },
    "kernelspec": {
      "name": "python3",
      "display_name": "Python 3"
    }
  },
  "cells": [
    {
      "cell_type": "markdown",
      "metadata": {
        "id": "view-in-github",
        "colab_type": "text"
      },
      "source": [
        "<a href=\"https://colab.research.google.com/github/eraldolima18/bootcampdevelopment/blob/main/trabalho_Pratico_modulo1.ipynb\" target=\"_parent\"><img src=\"https://colab.research.google.com/assets/colab-badge.svg\" alt=\"Open In Colab\"/></a>"
      ]
    },
    {
      "cell_type": "code",
      "metadata": {
        "colab": {
          "base_uri": "https://localhost:8080/"
        },
        "id": "NwqoBcMlh8Ri",
        "outputId": "5465e5b2-fee4-4404-deb5-294e2025e08b"
      },
      "source": [
        "idade = int(input(\"Entre com sua idade: \"))\n",
        "nova_idade = idade + 1\n",
        "print(\"No proximo ano você terá: {} anos \".format(nova_idade))"
      ],
      "execution_count": null,
      "outputs": [
        {
          "output_type": "stream",
          "text": [
            "Entre com sua idade: 38\n",
            "No proximo ano você terá: 39 anos \n"
          ],
          "name": "stdout"
        }
      ]
    },
    {
      "cell_type": "code",
      "metadata": {
        "colab": {
          "base_uri": "https://localhost:8080/"
        },
        "id": "L6tLy-fZjzOQ",
        "outputId": "0f1b92f1-27b0-4b94-b56d-a81f79b65059"
      },
      "source": [
        "lado_a = 35\n",
        "lado_b = 14.33333\n",
        "area_do_retangulo = (lado_a)*(lado_b)\n",
        "print('O retângulo de lado A = %.d e lado B = %.2f é %.3f'%(lado_a, lado_b, area_do_retangulo) )"
      ],
      "execution_count": null,
      "outputs": [
        {
          "output_type": "stream",
          "text": [
            "O retângulo de lado A = 35 e lado B = 14.33 é 501.667\n"
          ],
          "name": "stdout"
        }
      ]
    },
    {
      "cell_type": "code",
      "metadata": {
        "colab": {
          "base_uri": "https://localhost:8080/"
        },
        "id": "J5SPpOJuoG2v",
        "outputId": "afe0bb15-5060-4323-b340-518a1136d67a"
      },
      "source": [
        "lista_1 =[1,2 ,'IGTI']\n",
        "lista_2 =[2,3, 'Bootcamp']\n",
        "lista_3 = lista_1 + lista_2\n",
        "print(lista_3)\n"
      ],
      "execution_count": null,
      "outputs": [
        {
          "output_type": "stream",
          "text": [
            "[1, 2, 'IGTI', 2, 3, 'Bootcamp']\n"
          ],
          "name": "stdout"
        }
      ]
    },
    {
      "cell_type": "code",
      "metadata": {
        "id": "zJHEkWRW8qy9"
      },
      "source": [
        ""
      ],
      "execution_count": null,
      "outputs": []
    },
    {
      "cell_type": "code",
      "metadata": {
        "id": "d2RA0xsS0csr"
      },
      "source": [
        "chute = int(input(\"Entre com valor interito de 0 a 30: \"))\n",
        "adivinhacao = [5,6,10,14,16,20,30]\n",
        "if chute in adivinhacao:\n",
        "    print('Você acertou um dos numeros que estava pensando. ')\n",
        "    if chute > 15:\n",
        "        print(' Este numero e maior do que 15.')\n",
        "    if chute < 20:\n",
        "        print('Esse numero é menor do que 15. ')\n",
        "\n",
        "    print('Você é fera. ')\n",
        "else:\n",
        "    print('Que pena, você errou. Pode tentar outra vez. ')\n",
        "print('Obrigado por participar. ')    \n",
        "  "
      ],
      "execution_count": null,
      "outputs": []
    },
    {
      "cell_type": "code",
      "metadata": {
        "id": "evZGBHqE8wfV"
      },
      "source": [
        "frutas = [\"maçã\",\"banana\",\"uva\",\"goiaba\"]\n",
        "for x in frutas:\n",
        "    if x == \"uva\":\n",
        "        break\n",
        "    print(x)\n",
        "    "
      ],
      "execution_count": null,
      "outputs": []
    },
    {
      "cell_type": "code",
      "metadata": {
        "colab": {
          "base_uri": "https://localhost:8080/"
        },
        "id": "-ov54aQqD_hQ",
        "outputId": "67cfaa96-ef49-4080-f184-d06e6716fed9"
      },
      "source": [
        "n = 5\n",
        "while n >= 0:\n",
        "    n -=1\n",
        "    print(n)"
      ],
      "execution_count": null,
      "outputs": [
        {
          "output_type": "stream",
          "text": [
            "4\n",
            "3\n",
            "2\n",
            "1\n",
            "0\n",
            "-1\n"
          ],
          "name": "stdout"
        }
      ]
    }
  ]
}