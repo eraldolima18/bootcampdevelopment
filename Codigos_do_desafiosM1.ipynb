{
  "nbformat": 4,
  "nbformat_minor": 0,
  "metadata": {
    "colab": {
      "name": "Untitled5.ipynb",
      "provenance": [],
      "authorship_tag": "ABX9TyO0q2XIwROU17GQcs/f/rvn",
      "include_colab_link": true
    },
    "kernelspec": {
      "name": "python3",
      "display_name": "Python 3"
    }
  },
  "cells": [
    {
      "cell_type": "markdown",
      "metadata": {
        "id": "view-in-github",
        "colab_type": "text"
      },
      "source": [
        "<a href=\"https://colab.research.google.com/github/eraldolima18/bootcampdevelopment/blob/main/Codigos_do_desafiosM1.ipynb\" target=\"_parent\"><img src=\"https://colab.research.google.com/assets/colab-badge.svg\" alt=\"Open In Colab\"/></a>"
      ]
    },
    {
      "cell_type": "code",
      "metadata": {
        "id": "nUvtEz8Q1M0K"
      },
      "source": [
        "def funcao_1(num, num2):\n",
        "    resultado = num * num2\n",
        "    if resultado <= 1000:\n",
        "        return  resultado\n",
        "    else:\n",
        "        return num + num\n",
        "numero_1 = 20\n",
        "numero_2 = 30\n",
        "\n",
        "funcao_1(numero_1, numero_2)\n"
      ],
      "execution_count": null,
      "outputs": []
    },
    {
      "cell_type": "code",
      "metadata": {
        "colab": {
          "base_uri": "https://localhost:8080/"
        },
        "id": "0sjYeiJq935F",
        "outputId": "015fac46-7c95-4d1c-f079-4be421dddcd4"
      },
      "source": [
        "def funcao_2(num):\n",
        "    numero_anterior = 0\n",
        "    for i in range(num):\n",
        "      resultado = numero_anterior + 1\n",
        "      print(\"Numero A\", i ,\"Numero B\", numero_anterior, \"Resultado: \", resultado)\n",
        "      numero_anterior = 1\n",
        "\n",
        "funcao_2(10)"
      ],
      "execution_count": null,
      "outputs": [
        {
          "output_type": "stream",
          "text": [
            "Numero A 0 Numero B 0 Resultado:  1\n",
            "Numero A 1 Numero B 1 Resultado:  2\n",
            "Numero A 2 Numero B 1 Resultado:  2\n",
            "Numero A 3 Numero B 1 Resultado:  2\n",
            "Numero A 4 Numero B 1 Resultado:  2\n",
            "Numero A 5 Numero B 1 Resultado:  2\n",
            "Numero A 6 Numero B 1 Resultado:  2\n",
            "Numero A 7 Numero B 1 Resultado:  2\n",
            "Numero A 8 Numero B 1 Resultado:  2\n",
            "Numero A 9 Numero B 1 Resultado:  2\n"
          ],
          "name": "stdout"
        }
      ]
    },
    {
      "cell_type": "code",
      "metadata": {
        "id": "Ucl8avVj_bUc"
      },
      "source": [
        "def funcao_3(str):\n",
        "    for i in range(0,len(str)-1,2):\n",
        "      print(\"indice[\",i,\"]\", str[i])\n"
      ],
      "execution_count": null,
      "outputs": []
    },
    {
      "cell_type": "code",
      "metadata": {
        "id": "K_ykg8xWAAoU"
      },
      "source": [
        "def funcao_4(lista_numeria):\n",
        "    print(\"Valor passado \", lista_numeria)\n",
        "    a = lista_numeria[0]\n",
        "    b = lista_numeria[-1]\n",
        "    if (a == b):\n",
        "        return True\n",
        "    else:\n",
        "        return False\n",
        "numeros = [10,20,30,40,10]\n"
      ],
      "execution_count": null,
      "outputs": []
    },
    {
      "cell_type": "code",
      "metadata": {
        "id": "sP8zG7DdHLj3"
      },
      "source": [
        "class Classe_1:\n",
        "    def funcao_da_classe_1(self, string):\n",
        "        dicionario = {'I':1,'V':5,'X':10,'L':50,'C':100,'D':500,'M':1000}\n",
        "        valor = 0\n",
        "        for i in range(len(string)):\n",
        "            if i > 0 and dicionario[string[i]] > dicionario[string[i - 1]]:\n",
        "                valor += dicionario[string[i]] - 2 * dicionario[string[i-1]]\n",
        "            else:\n",
        "                valor += dicionario[string[i]]\n",
        "        return valor  "
      ],
      "execution_count": null,
      "outputs": []
    },
    {
      "cell_type": "code",
      "metadata": {
        "colab": {
          "base_uri": "https://localhost:8080/"
        },
        "id": "Ru01EeAfJ3Qd",
        "outputId": "6e8f8f32-e8b7-486a-e2fb-181bb7ef79f5"
      },
      "source": [
        "class A:\n",
        "    def __init__(self):\n",
        "        self.calcI(30)\n",
        "        print(\"i da Classe A\", self.i)\n",
        "\n",
        "    def calcI(self, i):\n",
        "        self.i = 2 * i;\n",
        "\n",
        "class B(A):\n",
        "  def __init__(self):\n",
        "      super().__init__()\n",
        "\n",
        "  def calcI(self, i):\n",
        "      self.i = 3 * i ;\n",
        "\n",
        "b = B()"
      ],
      "execution_count": null,
      "outputs": [
        {
          "output_type": "stream",
          "text": [
            "i da Classe A 90\n"
          ],
          "name": "stdout"
        }
      ]
    },
    {
      "cell_type": "code",
      "metadata": {
        "id": "AiRdemHeLvrI"
      },
      "source": [
        "class Classe_2():\n",
        "  def __init__(self, l, w):\n",
        "      self.a = l\n",
        "      self.b  = w\n",
        "  \n",
        "  def metodo_1(self):\n",
        "      return self.a*self.b\n",
        "\n",
        "objeto_1 = Classe_2(12,10)"
      ],
      "execution_count": null,
      "outputs": []
    }
  ]
}