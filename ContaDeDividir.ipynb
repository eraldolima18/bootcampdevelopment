{
  "nbformat": 4,
  "nbformat_minor": 0,
  "metadata": {
    "colab": {
      "name": "Untitled12.ipynb",
      "provenance": [],
      "authorship_tag": "ABX9TyPVZ5CDfW9bOZfAZhcCKKfo",
      "include_colab_link": true
    },
    "kernelspec": {
      "name": "python3",
      "display_name": "Python 3"
    }
  },
  "cells": [
    {
      "cell_type": "markdown",
      "metadata": {
        "id": "view-in-github",
        "colab_type": "text"
      },
      "source": [
        "<a href=\"https://colab.research.google.com/github/eraldolima18/bootcampdevelopment/blob/main/ContaDeDividir.ipynb\" target=\"_parent\"><img src=\"https://colab.research.google.com/assets/colab-badge.svg\" alt=\"Open In Colab\"/></a>"
      ]
    },
    {
      "cell_type": "code",
      "metadata": {
        "colab": {
          "base_uri": "https://localhost:8080/"
        },
        "id": "wTxtk0nhsNTp",
        "outputId": "8a6715e8-2679-487e-ae07-70eede0a9fe6"
      },
      "source": [
        "from random import randrange\r\n",
        "\r\n",
        "i = 1\r\n",
        "l = 10\r\n",
        "while i <300:\r\n",
        "    i = i + 1\r\n",
        "    while l < 30:\r\n",
        "        l = l + 1 \r\n",
        "        r = randrange(1, 100)\r\n",
        "        s = randrange(1, 20)\r\n",
        "        print(r,f\"/{s}\")\r\n",
        "        print(\"   ¯¯¯¯¯\")\r\n",
        "        print()\r\n",
        "        \r\n",
        "\r\n"
      ],
      "execution_count": null,
      "outputs": [
        {
          "output_type": "stream",
          "text": [
            "72 /12\n",
            "   ¯¯¯¯¯\n",
            "\n",
            "7 /1\n",
            "   ¯¯¯¯¯\n",
            "\n",
            "2 /13\n",
            "   ¯¯¯¯¯\n",
            "\n",
            "8 /3\n",
            "   ¯¯¯¯¯\n",
            "\n",
            "73 /11\n",
            "   ¯¯¯¯¯\n",
            "\n",
            "18 /9\n",
            "   ¯¯¯¯¯\n",
            "\n",
            "16 /9\n",
            "   ¯¯¯¯¯\n",
            "\n",
            "89 /17\n",
            "   ¯¯¯¯¯\n",
            "\n",
            "46 /12\n",
            "   ¯¯¯¯¯\n",
            "\n",
            "98 /8\n",
            "   ¯¯¯¯¯\n",
            "\n",
            "3 /19\n",
            "   ¯¯¯¯¯\n",
            "\n",
            "61 /17\n",
            "   ¯¯¯¯¯\n",
            "\n",
            "92 /7\n",
            "   ¯¯¯¯¯\n",
            "\n",
            "40 /2\n",
            "   ¯¯¯¯¯\n",
            "\n",
            "98 /10\n",
            "   ¯¯¯¯¯\n",
            "\n",
            "45 /10\n",
            "   ¯¯¯¯¯\n",
            "\n",
            "80 /5\n",
            "   ¯¯¯¯¯\n",
            "\n",
            "49 /18\n",
            "   ¯¯¯¯¯\n",
            "\n",
            "75 /19\n",
            "   ¯¯¯¯¯\n",
            "\n",
            "18 /17\n",
            "   ¯¯¯¯¯\n",
            "\n"
          ],
          "name": "stdout"
        }
      ]
    }
  ]
}