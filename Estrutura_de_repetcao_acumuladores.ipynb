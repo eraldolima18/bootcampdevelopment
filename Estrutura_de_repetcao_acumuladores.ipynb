{
  "nbformat": 4,
  "nbformat_minor": 0,
  "metadata": {
    "colab": {
      "name": "Untitled6.ipynb",
      "provenance": [],
      "authorship_tag": "ABX9TyOUsEpTzbjLEkz8k7KSRjzM",
      "include_colab_link": true
    },
    "kernelspec": {
      "name": "python3",
      "display_name": "Python 3"
    }
  },
  "cells": [
    {
      "cell_type": "markdown",
      "metadata": {
        "id": "view-in-github",
        "colab_type": "text"
      },
      "source": [
        "<a href=\"https://colab.research.google.com/github/eraldolima18/bootcampdevelopment/blob/main/Estrutura_de_repetcao_acumuladores.ipynb\" target=\"_parent\"><img src=\"https://colab.research.google.com/assets/colab-badge.svg\" alt=\"Open In Colab\"/></a>"
      ]
    },
    {
      "cell_type": "markdown",
      "metadata": {
        "id": "L8UcNXpBPJpJ"
      },
      "source": [
        "O operador ***in*** para uma sequência."
      ]
    },
    {
      "cell_type": "code",
      "metadata": {
        "colab": {
          "base_uri": "https://localhost:8080/"
        },
        "id": "yX-HOgVUPFAe",
        "outputId": "811460c4-df3b-45b6-bdd5-14df902ea57d"
      },
      "source": [
        "#lista de compras \n",
        "lista_de_compras = ['detergente', 'sabão','amaciante','banana','tomate', 'batata']\n",
        "item = input(\"Entre com um produto: \")\n",
        "if item not in lista_de_compras:\n",
        "    print('{} não consta na lista de compras'.format(item))\n",
        "else:\n",
        "    print('Não esquecao de comprar {}. '. format(item))\n"
      ],
      "execution_count": 2,
      "outputs": [
        {
          "output_type": "stream",
          "text": [
            "Entre com um produto: tomate\n",
            "Não esquecao de comprar tomate. \n"
          ],
          "name": "stdout"
        }
      ]
    },
    {
      "cell_type": "code",
      "metadata": {
        "colab": {
          "base_uri": "https://localhost:8080/"
        },
        "id": "c-Kb77zNROAs",
        "outputId": "a9f052af-b876-475a-dd31-800e74771d15"
      },
      "source": [
        "# encontrando valors entre duas listas\n",
        "lista_1 = [1,2,3,4,5,6]\n",
        "lista_2 = [6,7,8,9]\n",
        "for item in lista_1:\n",
        "    if item in lista_2:\n",
        "        print(str(item) + \" é comum às duas listas.\")\n",
        "    else:\n",
        "        print(str(item)+ \" não é comum às duas lista. \")"
      ],
      "execution_count": 6,
      "outputs": [
        {
          "output_type": "stream",
          "text": [
            "1 não é comum às duas lista. \n",
            "2 não é comum às duas lista. \n",
            "3 não é comum às duas lista. \n",
            "4 não é comum às duas lista. \n",
            "5 não é comum às duas lista. \n",
            "6 é comum às duas listas.\n"
          ],
          "name": "stdout"
        }
      ]
    },
    {
      "cell_type": "code",
      "metadata": {
        "colab": {
          "base_uri": "https://localhost:8080/"
        },
        "id": "zBQDPo8mSolc",
        "outputId": "d17db3fb-2e14-46a7-85bd-3addb459095e"
      },
      "source": [
        "#identificadores\n",
        "x = ' cinco'\n",
        "if (type(x) is int):\n",
        "    print(\"Verdadeiro\")\n",
        "else:\n",
        "    print(\"Falso\")"
      ],
      "execution_count": 8,
      "outputs": [
        {
          "output_type": "stream",
          "text": [
            "Falso\n"
          ],
          "name": "stdout"
        }
      ]
    },
    {
      "cell_type": "code",
      "metadata": {
        "colab": {
          "base_uri": "https://localhost:8080/"
        },
        "id": "0QaCkTSnTKwE",
        "outputId": "46c29e89-0f75-44e9-8cd9-a5f4050e9350"
      },
      "source": [
        "#identificadores\n",
        "x = 5.2\n",
        "if (type(x) is not int):\n",
        "    print(\"Verdadeiro\")\n",
        "else:\n",
        "    print(\"Falso\")"
      ],
      "execution_count": 9,
      "outputs": [
        {
          "output_type": "stream",
          "text": [
            "Verdadeiro\n"
          ],
          "name": "stdout"
        }
      ]
    },
    {
      "cell_type": "code",
      "metadata": {
        "colab": {
          "base_uri": "https://localhost:8080/"
        },
        "id": "id8PczfsTZRl",
        "outputId": "d65ee4d7-4761-4e86-f9f1-94aa542e9ad5"
      },
      "source": [
        "# contando a quantidade de elementos inteiros existem em uma lista\n",
        "\n",
        "string_inteiros = input(\" Entre com uma lista de interios. \")\n",
        "lista_inteiros = string_inteiros.split()\n",
        "contador = 0 # aqui definimos os nosso acumulador e inicializamos a contagem\n",
        "for interio in lista_inteiros:\n",
        "    contador = contador + 1\n",
        "print(\" Existem %.d inteiros na lista\" % contador)\n"
      ],
      "execution_count": 16,
      "outputs": [
        {
          "output_type": "stream",
          "text": [
            " Entre com uma lista de interios. Eraldo\n",
            " Existem 1 inteiros na lista\n"
          ],
          "name": "stdout"
        }
      ]
    },
    {
      "cell_type": "code",
      "metadata": {
        "colab": {
          "base_uri": "https://localhost:8080/"
        },
        "id": "Zx_ijeQdU4A-",
        "outputId": "c8c7ed04-bb73-48fb-a0f6-cfc808241709"
      },
      "source": [
        "#calculando o fatorial (!) de um número\n",
        "n = int(input(\"Entre com um número não negativo: \" ))\n",
        "fatorial = 1\n",
        "for i in range(1, n+1):\n",
        "    fatorial = fatorial*i\n",
        "print(str(n)+ \"! = \", fatorial)"
      ],
      "execution_count": 18,
      "outputs": [
        {
          "output_type": "stream",
          "text": [
            "Entre com um número não negativo: 5\n",
            "5! =  120\n"
          ],
          "name": "stdout"
        }
      ]
    },
    {
      "cell_type": "code",
      "metadata": {
        "colab": {
          "base_uri": "https://localhost:8080/"
        },
        "id": "w3rrJr5eWAuW",
        "outputId": "fb533f06-b8ad-412e-c49a-c14f788b4f9c"
      },
      "source": [
        "#acumulador e lista - cuidado!!!\n",
        "lista_numeros = [1,2,3,4,5,6,7,8,9,10]\n",
        "# inicializa a variavel aqui\n",
        "soma = 0\n",
        "for numero in lista_numeros:\n",
        "    #soma = 0 # Cuidado\n",
        "    soma = soma + numero\n",
        "print(soma)"
      ],
      "execution_count": 22,
      "outputs": [
        {
          "output_type": "stream",
          "text": [
            "55\n"
          ],
          "name": "stdout"
        }
      ]
    },
    {
      "cell_type": "code",
      "metadata": {
        "colab": {
          "base_uri": "https://localhost:8080/"
        },
        "id": "TiNVqOjBW3mX",
        "outputId": "5cdcacac-4ad0-44f5-9e15-8541339a2d73"
      },
      "source": [
        "# acumulador e a condição de parada\n",
        "condicao = 10\n",
        "soma = 1\n",
        "while soma <= condicao:\n",
        "    print(\"Esta é a {}ª vez que entro no loop. \". format(soma) )\n",
        "    soma = soma + 1"
      ],
      "execution_count": 24,
      "outputs": [
        {
          "output_type": "stream",
          "text": [
            "Esta é a 1ª vez que entro no loop. \n",
            "Esta é a 2ª vez que entro no loop. \n",
            "Esta é a 3ª vez que entro no loop. \n",
            "Esta é a 4ª vez que entro no loop. \n",
            "Esta é a 5ª vez que entro no loop. \n",
            "Esta é a 6ª vez que entro no loop. \n",
            "Esta é a 7ª vez que entro no loop. \n",
            "Esta é a 8ª vez que entro no loop. \n",
            "Esta é a 9ª vez que entro no loop. \n",
            "Esta é a 10ª vez que entro no loop. \n"
          ],
          "name": "stdout"
        }
      ]
    }
  ]
}