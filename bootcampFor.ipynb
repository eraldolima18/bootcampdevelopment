{
  "nbformat": 4,
  "nbformat_minor": 0,
  "metadata": {
    "colab": {
      "name": "Untitled3.ipynb",
      "provenance": [],
      "authorship_tag": "ABX9TyP8zNXb1gkRcQc/SxbMXx1O",
      "include_colab_link": true
    },
    "kernelspec": {
      "name": "python3",
      "display_name": "Python 3"
    }
  },
  "cells": [
    {
      "cell_type": "markdown",
      "metadata": {
        "id": "view-in-github",
        "colab_type": "text"
      },
      "source": [
        "<a href=\"https://colab.research.google.com/github/eraldolima18/bootcampdevelopment/blob/main/bootcampFor.ipynb\" target=\"_parent\"><img src=\"https://colab.research.google.com/assets/colab-badge.svg\" alt=\"Open In Colab\"/></a>"
      ]
    },
    {
      "cell_type": "code",
      "metadata": {
        "id": "ck-_0ekl2Zdj"
      },
      "source": [
        "string = input('ENTRE COM A STRING: ')\n",
        "for caracteres in string:\n",
        "    print(caracteres.upper())\n",
        "\n",
        "\n"
      ],
      "execution_count": null,
      "outputs": []
    },
    {
      "cell_type": "code",
      "metadata": {
        "id": "hoxc3z_y8kui"
      },
      "source": [
        "lista = ['IGTI', \"BootCamp\",\"Python\",2020]\n",
        "for elementos in lista:\n",
        "  print(elementos)"
      ],
      "execution_count": null,
      "outputs": []
    },
    {
      "cell_type": "code",
      "metadata": {
        "id": "Cb-729-E-3Wr"
      },
      "source": [
        "for i in range(8):\n",
        "    print(i)\n",
        "print('--fim--')\n",
        "\n",
        "type(range(8))"
      ],
      "execution_count": null,
      "outputs": []
    },
    {
      "cell_type": "code",
      "metadata": {
        "id": "zK3W5Rdd_8Or"
      },
      "source": [
        "for i in range(1,10):\n",
        "  print(i)\n",
        "print('---fim---')\n"
      ],
      "execution_count": null,
      "outputs": []
    },
    {
      "cell_type": "code",
      "metadata": {
        "id": "0aBM0ikZAa4-"
      },
      "source": [
        "for i in [0,1,2,3,4,5,6,7]:\n",
        "    print(i)\n",
        "print('--FIM--')\n"
      ],
      "execution_count": null,
      "outputs": []
    },
    {
      "cell_type": "code",
      "metadata": {
        "id": "OFCLrK4_CLa-"
      },
      "source": [
        "string = input(\"Entre com Alguma String: \")\n",
        "for caracter in range(len(string)):\n",
        "      print(string[caracter])\n",
        "print(\"--fim--\")"
      ],
      "execution_count": null,
      "outputs": []
    },
    {
      "cell_type": "code",
      "metadata": {
        "id": "IRvWh5kRDaDX"
      },
      "source": [
        ""
      ],
      "execution_count": null,
      "outputs": []
    },
    {
      "cell_type": "markdown",
      "metadata": {
        "id": "euKDFoZ6FDX6"
      },
      "source": [
        "porcentagem\n",
        "porcento\n",
        "por cento *25/100"
      ]
    },
    {
      "cell_type": "code",
      "metadata": {
        "colab": {
          "base_uri": "https://localhost:8080/"
        },
        "id": "hmWe28VhFrpf",
        "outputId": "49558b9d-d4f6-40b9-9e2a-68fbecbaceb3"
      },
      "source": [
        "valor = float(input(\"Entre com o valor que deseja calcular em porcentagem: \"))\n",
        "porcentagem = float(input('Entre com a porcetagem desejada'))\n",
        "res = (valor * porcentagem) / 100\n",
        "print(res, \" o desconto\")\n",
        "apagar = valor - res\n",
        "print(f\"Este é o valor a,{apagar} pagar\")\n",
        "\n",
        "\n",
        "\n"
      ],
      "execution_count": 20,
      "outputs": [
        {
          "output_type": "stream",
          "text": [
            "Entre com o valor que deseja calcular em porcentagem: 480\n",
            "Entre com a porcetagem desejada25\n",
            "120.0  o desconto\n",
            "Este é o valor a,360.0 pagar\n"
          ],
          "name": "stdout"
        }
      ]
    }
  ]
}