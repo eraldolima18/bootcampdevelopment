{
  "nbformat": 4,
  "nbformat_minor": 0,
  "metadata": {
    "colab": {
      "name": "Untitled1.ipynb",
      "provenance": [],
      "authorship_tag": "ABX9TyOxO4FRYnjG8up4KaZ+kSVL",
      "include_colab_link": true
    },
    "kernelspec": {
      "name": "python3",
      "display_name": "Python 3"
    }
  },
  "cells": [
    {
      "cell_type": "markdown",
      "metadata": {
        "id": "view-in-github",
        "colab_type": "text"
      },
      "source": [
        "<a href=\"https://colab.research.google.com/github/eraldolima18/bootcampdevelopment/blob/main/fundPython.ipynb\" target=\"_parent\"><img src=\"https://colab.research.google.com/assets/colab-badge.svg\" alt=\"Open In Colab\"/></a>"
      ]
    },
    {
      "cell_type": "code",
      "metadata": {
        "id": "ScyikseWkDra"
      },
      "source": [
        "dicionario = {}\n",
        "print(\"dicionario vazio\")\n",
        "print(dicionario)\n",
        " \n",
        "dicionario = {1:\"IGTI\", 2:\"BootCamp\", 3:\"IGTI\"}\n",
        " \n",
        "dicionario = {'escola':'IGTI', 1:[1,2,3,4]}\n",
        "print(dicionario)\n",
        " \n",
        "dicionario = dict([(1, 'IGTI'),(2,'BootCamp')])\n",
        "print(\"Criando Dicionario com par de dados\")\n",
        "print(dicionario)\n",
        " \n",
        "dicionario = {}\n",
        "dicionario[0] = 'IGTI'\n",
        "dicionario[2] = 'BootCamp'\n",
        "dicionario[3] = 1\n",
        " \n",
        "print('Adicionando 3 elementos em um dicionario:')\n",
        "print(dicionario)"
      ],
      "execution_count": null,
      "outputs": []
    },
    {
      "cell_type": "code",
      "metadata": {
        "id": "vO-dEJpYIGeJ"
      },
      "source": [
        ""
      ],
      "execution_count": null,
      "outputs": []
    },
    {
      "cell_type": "code",
      "metadata": {
        "colab": {
          "base_uri": "https://localhost:8080/"
        },
        "id": "ogFk3cbpvmAE",
        "outputId": "35a4e22f-6646-4503-aea2-900fb4dd28d2"
      },
      "source": [
        "print('Atualizando dicionario')\n",
        "dicionario[2] = 'MBA'\n",
        "print(dicionario)\n"
      ],
      "execution_count": null,
      "outputs": [
        {
          "output_type": "stream",
          "text": [
            "Atualizando dicionario\n",
            "{0: 'IGTI', 2: 'MBA', 3: 1}\n"
          ],
          "name": "stdout"
        }
      ]
    },
    {
      "cell_type": "code",
      "metadata": {
        "colab": {
          "base_uri": "https://localhost:8080/"
        },
        "id": "M-nrNTyQwPvT",
        "outputId": "96783723-1b3b-4661-81ac-6a15d5a984ee"
      },
      "source": [
        "dicionario = {'a':\"Azul\", 'V': \"Verde\", 'R':'Rosa' }\n",
        "print(\"acessando um elemetos atraves da chave:\")\n",
        "print(dicionario['a'])\n",
        "\n",
        "print(\"acessando atravez do get\")\n",
        "print(dicionario.get('V'))\n",
        "\n",
        "print('deletando com del')\n",
        "del dicionario['V']\n",
        "print(dicionario)\n",
        "print('deletando com pop')\n",
        "print(dicionario.pop('a'))\n",
        "print('deletando com popitem')\n",
        "dicionario = {'a':\"Azul\", 'V': \"Verde\", 'R':'Rosa' }\n",
        "print(dicionario.popitem())\n",
        "dicionario = {'a':\"Azul\", 'V': \"Verde\", 'R':'Rosa' }\n",
        "print('limpando o dicionario')\n",
        "dicionario.clear()\n",
        "print(dicionario)\n",
        "\n"
      ],
      "execution_count": null,
      "outputs": [
        {
          "output_type": "stream",
          "text": [
            "acessando um elemetos atraves da chave:\n",
            "Azul\n",
            "acessando atravez do get\n",
            "Verde\n",
            "deletando com del\n",
            "{'a': 'Azul', 'R': 'Rosa'}\n",
            "deletando com pop\n",
            "Azul\n",
            "deletando com popitem\n",
            "('R', 'Rosa')\n",
            "limpando o dicionario\n",
            "{}\n"
          ],
          "name": "stdout"
        }
      ]
    }
  ]
}